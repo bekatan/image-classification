{
  "nbformat": 4,
  "nbformat_minor": 0,
  "metadata": {
    "colab": {
      "name": "RandomForestsFashionMNIST.ipynb",
      "provenance": [],
      "mount_file_id": "1EeFWhR17XV5oG0B7zmC5aTcOs6ovrH4-",
      "authorship_tag": "ABX9TyOCFNlUV3AaXIbS544WOAmD",
      "include_colab_link": true
    },
    "kernelspec": {
      "name": "python3",
      "display_name": "Python 3"
    },
    "language_info": {
      "name": "python"
    },
    "gpuClass": "standard",
    "accelerator": "GPU"
  },
  "cells": [
    {
      "cell_type": "markdown",
      "metadata": {
        "id": "view-in-github",
        "colab_type": "text"
      },
      "source": [
        "<a href=\"https://colab.research.google.com/github/bekatan/cw4/blob/main/RandomForestsFashionMNIST.ipynb\" target=\"_parent\"><img src=\"https://colab.research.google.com/assets/colab-badge.svg\" alt=\"Open In Colab\"/></a>"
      ]
    },
    {
      "cell_type": "code",
      "source": [
        "import pandas as pd\n",
        "import numpy as np\n",
        "\n",
        "train_data = pd.read_csv('/content/drive/MyDrive/content/fashion-mnist_train.csv')\n",
        "test_data = pd.read_csv('/content/drive/MyDrive/content/fashion-mnist_test.csv')"
      ],
      "metadata": {
        "id": "nWU7Il6yJPe5"
      },
      "execution_count": null,
      "outputs": []
    },
    {
      "cell_type": "code",
      "source": [
        "X_train = train_data.drop(columns='label').to_numpy()[:20000]\n",
        "Y_train = train_data['label'].to_numpy()[:20000]\n",
        "X_train = X_train/255\n",
        "\n",
        "X_trains = []\n",
        "Y_trains = []\n",
        "\n",
        "for i in range(1,11):\n",
        "  X_trains.append(X_train[:1000*i])\n",
        "  Y_trains.append(Y_train[:1000*i])\n",
        "\n",
        "X_test = test_data.drop(columns='label').to_numpy()\n",
        "Y_test = test_data['label'].to_numpy()\n",
        "X_test = X_test/255"
      ],
      "metadata": {
        "id": "qiXKBGhJJWhQ"
      },
      "execution_count": null,
      "outputs": []
    },
    {
      "cell_type": "code",
      "source": [
        "from sklearn.ensemble import RandomForestClassifier\n",
        "import time\n",
        "\n",
        "for i in range(10):\n",
        "  print(\"training dataset size: \", 1000*i)\n",
        "  startTime = time.time()\n",
        "  model = RandomForestClassifier(n_estimators=20)\n",
        "  model.fit(X_trains[i], Y_trains[i])\n",
        "  fitTime = (time.time() - startTime)\n",
        "  print(\"Training time: \", fitTime)\n",
        "  print(\"Train accuracy\", model.score(X_train, Y_train))\n",
        "  print(\"Test accuracy\", model.score(X_test, Y_test))"
      ],
      "metadata": {
        "colab": {
          "base_uri": "https://localhost:8080/"
        },
        "id": "0Zxv_2Qcf28G",
        "outputId": "a5e8d999-9e69-47ad-ae65-d1bba7db120f"
      },
      "execution_count": null,
      "outputs": [
        {
          "output_type": "stream",
          "name": "stdout",
          "text": [
            "training dataset size:  0\n",
            "Training time:  0.41834592819213867\n",
            "Train accuracy 0.80315\n",
            "Test accuracy 0.7855\n",
            "training dataset size:  1000\n",
            "Training time:  0.7952289581298828\n",
            "Train accuracy 0.82975\n",
            "Test accuracy 0.8066\n",
            "training dataset size:  2000\n",
            "Training time:  1.470081090927124\n",
            "Train accuracy 0.84785\n",
            "Test accuracy 0.8216\n",
            "training dataset size:  3000\n",
            "Training time:  1.9342093467712402\n",
            "Train accuracy 0.8604\n",
            "Test accuracy 0.8275\n",
            "training dataset size:  4000\n",
            "Training time:  2.3176651000976562\n",
            "Train accuracy 0.87325\n",
            "Test accuracy 0.83\n",
            "training dataset size:  5000\n",
            "Training time:  1.412308931350708\n",
            "Train accuracy 0.88565\n",
            "Test accuracy 0.8344\n",
            "training dataset size:  6000\n",
            "Training time:  1.6818130016326904\n",
            "Train accuracy 0.8952\n",
            "Test accuracy 0.8359\n",
            "training dataset size:  7000\n",
            "Training time:  1.9785771369934082\n",
            "Train accuracy 0.90395\n",
            "Test accuracy 0.8392\n",
            "training dataset size:  8000\n",
            "Training time:  2.244886636734009\n",
            "Train accuracy 0.9128\n",
            "Test accuracy 0.8425\n",
            "training dataset size:  9000\n",
            "Training time:  2.5838658809661865\n",
            "Train accuracy 0.91955\n",
            "Test accuracy 0.8438\n"
          ]
        }
      ]
    },
    {
      "cell_type": "code",
      "source": [
        "from sklearn.ensemble import RandomForestClassifier\n",
        "import time\n",
        "\n",
        "model = RandomForestClassifier(n_estimators=20)"
      ],
      "metadata": {
        "id": "JrhZXEsgJZnF"
      },
      "execution_count": null,
      "outputs": []
    },
    {
      "cell_type": "code",
      "source": [
        "startTime = time.time()\n",
        "model = model.fit(X_train, Y_train)\n",
        "fitTime = (time.time() - startTime)\n",
        "print(\"Training time: \", fitTime)"
      ],
      "metadata": {
        "colab": {
          "base_uri": "https://localhost:8080/"
        },
        "id": "zOvyG9slJvzu",
        "outputId": "61b166cc-c801-4092-96a8-fc354588ae2d"
      },
      "execution_count": null,
      "outputs": [
        {
          "output_type": "stream",
          "name": "stdout",
          "text": [
            "Training time:  19.327900409698486\n"
          ]
        }
      ]
    },
    {
      "cell_type": "code",
      "source": [
        "print(\"Train accuracy\", model.score(X_train, Y_train))\n",
        "print(\"Test accuracy\", model.score(X_test, Y_test))"
      ],
      "metadata": {
        "id": "dp0Fke8kun_w",
        "colab": {
          "base_uri": "https://localhost:8080/"
        },
        "outputId": "5f494c64-7398-4a6d-c6ec-ce977b603327"
      },
      "execution_count": null,
      "outputs": [
        {
          "output_type": "stream",
          "name": "stdout",
          "text": [
            "Train accuracy 0.99915\n",
            "Test accuracy 0.8554\n"
          ]
        }
      ]
    }
  ]
}