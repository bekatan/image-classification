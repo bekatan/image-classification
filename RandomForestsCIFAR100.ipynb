{
  "nbformat": 4,
  "nbformat_minor": 0,
  "metadata": {
    "colab": {
      "name": "RandomForestsCIFAR100",
      "provenance": [],
      "collapsed_sections": [],
      "mount_file_id": "1pdZiwZmFmY0ZP5Eig08XjVYdOxPRkJn3",
      "authorship_tag": "ABX9TyPuqvIaAk9Cke6RlH/e19Ft",
      "include_colab_link": true
    },
    "kernelspec": {
      "name": "python3",
      "display_name": "Python 3"
    },
    "language_info": {
      "name": "python"
    },
    "gpuClass": "standard"
  },
  "cells": [
    {
      "cell_type": "markdown",
      "metadata": {
        "id": "view-in-github",
        "colab_type": "text"
      },
      "source": [
        "<a href=\"https://colab.research.google.com/github/bekatan/cw4/blob/main/RandomForestsCIFAR100.ipynb\" target=\"_parent\"><img src=\"https://colab.research.google.com/assets/colab-badge.svg\" alt=\"Open In Colab\"/></a>"
      ]
    },
    {
      "cell_type": "code",
      "source": [
        "def unpickle(file):\n",
        "    import pickle\n",
        "    with open(file, 'rb') as fo:\n",
        "        dict = pickle.load(fo, encoding='bytes')\n",
        "    return dict"
      ],
      "metadata": {
        "id": "xD2wGii61xvq"
      },
      "execution_count": null,
      "outputs": []
    },
    {
      "cell_type": "code",
      "source": [
        "train_dataset = unpickle('/content/drive/MyDrive/content/train')\n",
        "test_dataset = unpickle('/content/drive/MyDrive/content/test')"
      ],
      "metadata": {
        "id": "b5BpL19W0Luu"
      },
      "execution_count": null,
      "outputs": []
    },
    {
      "cell_type": "code",
      "source": [
        "X_trains = []\n",
        "Y_trains = []\n",
        "\n",
        "for i in range(1,11):\n",
        "  X_trains.append(train_dataset[b'data'][:1000*i]/255)\n",
        "  Y_trains.append(train_dataset[b'fine_labels'][:1000*i])\n",
        "\n",
        "X_test = test_dataset[b'data']\n",
        "Y_test = test_dataset[b'fine_labels']\n",
        "X_test = X_test/255"
      ],
      "metadata": {
        "id": "5n2nFVRn0YhY"
      },
      "execution_count": null,
      "outputs": []
    },
    {
      "cell_type": "code",
      "source": [
        "from sklearn.ensemble import RandomForestClassifier\n",
        "import time\n",
        "\n",
        "models = []\n",
        "\n",
        "for i in range(1,11):\n",
        "  models.append(RandomForestClassifier(n_estimators=100))"
      ],
      "metadata": {
        "id": "ga8HFCs2Iy7l"
      },
      "execution_count": null,
      "outputs": []
    },
    {
      "cell_type": "code",
      "source": [
        "for i in range(10):\n",
        "  startTime = time.time()\n",
        "  models[i] = models[i].fit(X_trains[i], Y_trains[i])\n",
        "  fitTime = (time.time() - startTime)\n",
        "  print(\"Model with train size:\", 1000*i)\n",
        "  print(\"Training time: \", fitTime)\n",
        "  print(\"Train accuracy:\", models[i].score(X_trains[i], Y_trains[i]))\n",
        "  print(\"Test accuracy:\", models[i].score(X_test, Y_test))"
      ],
      "metadata": {
        "colab": {
          "base_uri": "https://localhost:8080/",
          "height": 860
        },
        "id": "OcvAbin5I9tv",
        "outputId": "688253c7-4c6a-47dc-d2a1-79163ad4a97c"
      },
      "execution_count": null,
      "outputs": [
        {
          "output_type": "stream",
          "name": "stdout",
          "text": [
            "Model with train size: 1000\n",
            "Training time:  35.07485342025757\n",
            "Train accuracy: 1.0\n",
            "Test accuracy: 0.1049\n",
            "Model with train size: 2000\n",
            "Training time:  48.098434925079346\n",
            "Train accuracy: 1.0\n",
            "Test accuracy: 0.1203\n",
            "Model with train size: 3000\n",
            "Training time:  63.94506096839905\n",
            "Train accuracy: 1.0\n",
            "Test accuracy: 0.1304\n",
            "Model with train size: 4000\n",
            "Training time:  80.02373695373535\n",
            "Train accuracy: 1.0\n",
            "Test accuracy: 0.1402\n",
            "Model with train size: 5000\n",
            "Training time:  94.04161167144775\n",
            "Train accuracy: 1.0\n",
            "Test accuracy: 0.1442\n",
            "Model with train size: 6000\n",
            "Training time:  109.65917086601257\n",
            "Train accuracy: 1.0\n",
            "Test accuracy: 0.1466\n",
            "Model with train size: 7000\n",
            "Training time:  127.78804135322571\n",
            "Train accuracy: 1.0\n",
            "Test accuracy: 0.1525\n",
            "Model with train size: 8000\n",
            "Training time:  140.20331978797913\n",
            "Train accuracy: 1.0\n",
            "Test accuracy: 0.1581\n",
            "Model with train size: 9000\n",
            "Training time:  157.73981189727783\n",
            "Train accuracy: 1.0\n",
            "Test accuracy: 0.1649\n"
          ]
        },
        {
          "output_type": "error",
          "ename": "IndexError",
          "evalue": "ignored",
          "traceback": [
            "\u001b[0;31m---------------------------------------------------------------------------\u001b[0m",
            "\u001b[0;31mIndexError\u001b[0m                                Traceback (most recent call last)",
            "\u001b[0;32m<ipython-input-14-fb993193be10>\u001b[0m in \u001b[0;36m<module>\u001b[0;34m()\u001b[0m\n\u001b[1;32m      1\u001b[0m \u001b[0;32mfor\u001b[0m \u001b[0mi\u001b[0m \u001b[0;32min\u001b[0m \u001b[0mrange\u001b[0m\u001b[0;34m(\u001b[0m\u001b[0;36m1\u001b[0m\u001b[0;34m,\u001b[0m \u001b[0;36m11\u001b[0m\u001b[0;34m)\u001b[0m\u001b[0;34m:\u001b[0m\u001b[0;34m\u001b[0m\u001b[0;34m\u001b[0m\u001b[0m\n\u001b[1;32m      2\u001b[0m   \u001b[0mstartTime\u001b[0m \u001b[0;34m=\u001b[0m \u001b[0mtime\u001b[0m\u001b[0;34m.\u001b[0m\u001b[0mtime\u001b[0m\u001b[0;34m(\u001b[0m\u001b[0;34m)\u001b[0m\u001b[0;34m\u001b[0m\u001b[0;34m\u001b[0m\u001b[0m\n\u001b[0;32m----> 3\u001b[0;31m   \u001b[0mmodels\u001b[0m\u001b[0;34m[\u001b[0m\u001b[0mi\u001b[0m\u001b[0;34m]\u001b[0m \u001b[0;34m=\u001b[0m \u001b[0mmodels\u001b[0m\u001b[0;34m[\u001b[0m\u001b[0mi\u001b[0m\u001b[0;34m]\u001b[0m\u001b[0;34m.\u001b[0m\u001b[0mfit\u001b[0m\u001b[0;34m(\u001b[0m\u001b[0mX_trains\u001b[0m\u001b[0;34m[\u001b[0m\u001b[0mi\u001b[0m\u001b[0;34m]\u001b[0m\u001b[0;34m,\u001b[0m \u001b[0mY_trains\u001b[0m\u001b[0;34m[\u001b[0m\u001b[0mi\u001b[0m\u001b[0;34m]\u001b[0m\u001b[0;34m)\u001b[0m\u001b[0;34m\u001b[0m\u001b[0;34m\u001b[0m\u001b[0m\n\u001b[0m\u001b[1;32m      4\u001b[0m   \u001b[0mfitTime\u001b[0m \u001b[0;34m=\u001b[0m \u001b[0;34m(\u001b[0m\u001b[0mtime\u001b[0m\u001b[0;34m.\u001b[0m\u001b[0mtime\u001b[0m\u001b[0;34m(\u001b[0m\u001b[0;34m)\u001b[0m \u001b[0;34m-\u001b[0m \u001b[0mstartTime\u001b[0m\u001b[0;34m)\u001b[0m\u001b[0;34m\u001b[0m\u001b[0;34m\u001b[0m\u001b[0m\n\u001b[1;32m      5\u001b[0m   \u001b[0mprint\u001b[0m\u001b[0;34m(\u001b[0m\u001b[0;34m\"Model with train size:\"\u001b[0m\u001b[0;34m,\u001b[0m \u001b[0;36m1000\u001b[0m\u001b[0;34m*\u001b[0m\u001b[0mi\u001b[0m\u001b[0;34m)\u001b[0m\u001b[0;34m\u001b[0m\u001b[0;34m\u001b[0m\u001b[0m\n",
            "\u001b[0;31mIndexError\u001b[0m: list index out of range"
          ]
        }
      ]
    },
    {
      "cell_type": "code",
      "source": [
        "print(\"Train accuracy:\", model.score(X_train, Y_train))\n",
        "print(\"Test accuracy:\", model.score(X_test, Y_test))"
      ],
      "metadata": {
        "colab": {
          "base_uri": "https://localhost:8080/"
        },
        "id": "A4avSKMRu7FS",
        "outputId": "4ef43f22-a2f1-4cff-ba6a-bf2a1ae72634"
      },
      "execution_count": null,
      "outputs": [
        {
          "output_type": "stream",
          "name": "stdout",
          "text": [
            "Train accuracy: 1.0\n",
            "Test accuracy: 0.1872\n"
          ]
        }
      ]
    }
  ]
}